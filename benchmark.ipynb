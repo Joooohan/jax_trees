{
 "cells": [
  {
   "cell_type": "code",
   "execution_count": 1,
   "metadata": {},
   "outputs": [],
   "source": [
    "from sklearn.model_selection import cross_val_score, KFold\n",
    "import numpy as np"
   ]
  },
  {
   "cell_type": "code",
   "execution_count": 2,
   "metadata": {},
   "outputs": [],
   "source": [
    "from sklearn.datasets import load_iris, load_digits, load_wine, load_breast_cancer, load_diabetes\n",
    "\n",
    "classification_loaders = {\n",
    "    \"iris\": load_iris,\n",
    "    \"digits\": load_digits,\n",
    "    \"wine\": load_wine,\n",
    "    \"breast_cancer\": load_breast_cancer\n",
    "}\n",
    "\n",
    "regression_loaders = {\n",
    "    \"diabetes\": load_diabetes,\n",
    "}"
   ]
  },
  {
   "cell_type": "code",
   "execution_count": 7,
   "metadata": {},
   "outputs": [],
   "source": [
    "from sklearn import tree\n",
    "from sklearn import ensemble\n",
    "from decision_tree import DecisionTreeClassifier, DecisionTreeRegressor, RandomForestClassifier\n",
    "\n",
    "classification_models = {\n",
    "    \"sklearn DTC\": tree.DecisionTreeClassifier(criterion=\"entropy\", max_depth=4),\n",
    "    \"sklearn RFC\": ensemble.RandomForestClassifier(n_estimators=20, criterion=\"entropy\", max_depth=4),\n",
    "    \"our DTC\": DecisionTreeClassifier(max_depth=4, min_samples=1),\n",
    "    # \"our RFC\": RandomForestClassifier(n_estimators=20, max_depth=4, min_samples=2)\n",
    "}\n",
    "\n",
    "regression_models = {\n",
    "    \"sklearn DTR\": tree.DecisionTreeRegressor(criterion=\"squared_error\", max_depth=4),\n",
    "    \"our DTR\": DecisionTreeRegressor(max_depth=4, min_samples=1)\n",
    "}"
   ]
  },
  {
   "cell_type": "code",
   "execution_count": 8,
   "metadata": {},
   "outputs": [],
   "source": [
    "def benchmark_dataset(ds_name, loader, model):\n",
    "    dataset = loader()\n",
    "    X, y = dataset[\"data\"], dataset[\"target\"]\n",
    "    cv_scores = []\n",
    "    for train_idx, test_idx in KFold(n_splits=5, shuffle=True).split(X):\n",
    "        X_train, X_test = X[train_idx], X[test_idx]\n",
    "        y_train, y_test = y[train_idx], y[test_idx]\n",
    "        model.fit(X_train, y_train)\n",
    "        cv_scores.append(model.score(X_test, y_test))\n",
    "    cv_score = np.mean(cv_scores)\n",
    "    return cv_score\n"
   ]
  },
  {
   "cell_type": "code",
   "execution_count": 9,
   "metadata": {},
   "outputs": [],
   "source": [
    "from prettytable import PrettyTable\n",
    "\n",
    "def benchmark(loaders, models):\n",
    "    leaderboard = PrettyTable()\n",
    "    dataset_names = list(loaders.keys())\n",
    "    leaderboard.add_column(\"Dataset\", dataset_names)\n",
    "\n",
    "    for model_name, model in models.items():\n",
    "        results = [\n",
    "            f\"{benchmark_dataset(ds_name, loaders[ds_name], model):.3f}\"\n",
    "            for ds_name in dataset_names\n",
    "        ]\n",
    "        leaderboard.add_column(model_name, results)\n",
    "\n",
    "    print(leaderboard)"
   ]
  },
  {
   "cell_type": "code",
   "execution_count": 10,
   "metadata": {},
   "outputs": [
    {
     "name": "stdout",
     "output_type": "stream",
     "text": [
      "+---------------+-------------+-------------+---------+\n",
      "|    Dataset    | sklearn DTC | sklearn RFC | our DTC |\n",
      "+---------------+-------------+-------------+---------+\n",
      "|      iris     |    0.953    |    0.953    |  0.920  |\n",
      "|     digits    |    0.662    |    0.893    |  0.673  |\n",
      "|      wine     |    0.938    |    0.961    |  0.803  |\n",
      "| breast_cancer |    0.933    |    0.953    |  0.937  |\n",
      "+---------------+-------------+-------------+---------+\n"
     ]
    }
   ],
   "source": [
    "benchmark(classification_loaders, classification_models)"
   ]
  },
  {
   "cell_type": "code",
   "execution_count": 7,
   "metadata": {},
   "outputs": [
    {
     "name": "stdout",
     "output_type": "stream",
     "text": [
      "+----------+-------------+---------+\n",
      "| Dataset  | sklearn DTR | our DTR |\n",
      "+----------+-------------+---------+\n",
      "| diabetes |    0.284    |  0.302  |\n",
      "+----------+-------------+---------+\n"
     ]
    }
   ],
   "source": [
    "benchmark(regression_loaders, regression_models)"
   ]
  },
  {
   "cell_type": "code",
   "execution_count": null,
   "metadata": {},
   "outputs": [],
   "source": []
  }
 ],
 "metadata": {
  "kernelspec": {
   "display_name": "Python 3.8.2 ('.venv': pipenv)",
   "language": "python",
   "name": "python3"
  },
  "language_info": {
   "codemirror_mode": {
    "name": "ipython",
    "version": 3
   },
   "file_extension": ".py",
   "mimetype": "text/x-python",
   "name": "python",
   "nbconvert_exporter": "python",
   "pygments_lexer": "ipython3",
   "version": "3.8.2"
  },
  "orig_nbformat": 4,
  "vscode": {
   "interpreter": {
    "hash": "e7d68aa8add11f41313eed966ac2e65c5c3885b66e5ee293dcfa2a5e760e75e6"
   }
  }
 },
 "nbformat": 4,
 "nbformat_minor": 2
}

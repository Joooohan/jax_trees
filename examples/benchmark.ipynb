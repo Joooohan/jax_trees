{
 "cells": [
  {
   "cell_type": "code",
   "execution_count": 1,
   "metadata": {},
   "outputs": [],
   "source": [
    "from sklearn.model_selection import cross_val_score, KFold\n",
    "import numpy as np"
   ]
  },
  {
   "cell_type": "code",
   "execution_count": 2,
   "metadata": {},
   "outputs": [],
   "source": [
    "from sklearn.datasets import (\n",
    "    load_iris,\n",
    "    load_digits,\n",
    "    load_wine,\n",
    "    load_breast_cancer,\n",
    "    load_diabetes,\n",
    ")\n",
    "\n",
    "classification_loaders = {\n",
    "    \"iris\": load_iris,\n",
    "    \"digits\": load_digits,\n",
    "    \"wine\": load_wine,\n",
    "    \"breast_cancer\": load_breast_cancer,\n",
    "}\n",
    "\n",
    "regression_loaders = {\n",
    "    \"diabetes\": load_diabetes,\n",
    "}"
   ]
  },
  {
   "cell_type": "code",
   "execution_count": 3,
   "metadata": {},
   "outputs": [],
   "source": [
    "from sklearn import tree\n",
    "from sklearn import ensemble\n",
    "from decision_tree.numpy import (\n",
    "    DecisionTreeClassifier,\n",
    "    DecisionTreeRegressor,\n",
    "    RandomForestClassifier,\n",
    ")\n",
    "from decision_tree.jax import DecisionTreeClassifier as JaxDTC\n",
    "from decision_tree.numpy.bagging import RandomForestRegressor\n",
    "\n",
    "classification_models = {\n",
    "    \"sklearn DTC\": tree.DecisionTreeClassifier(criterion=\"entropy\", max_depth=4),\n",
    "    \"numpy DTC\": DecisionTreeClassifier(max_depth=4, min_samples=1),\n",
    "    \"JAX DTC\": JaxDTC(max_depth=4, min_samples=2),\n",
    "    \"sklearn RFC\": ensemble.RandomForestClassifier(\n",
    "        n_estimators=20, criterion=\"entropy\", max_depth=4\n",
    "    ),\n",
    "    # \"numpy RFC\": RandomForestClassifier(n_estimators=20, max_depth=4, min_samples=2),\n",
    "}\n",
    "\n",
    "regression_models = {\n",
    "    \"sklearn DTR\": tree.DecisionTreeRegressor(criterion=\"squared_error\", max_depth=4),\n",
    "    \"our DTR\": DecisionTreeRegressor(max_depth=4, min_samples=1),\n",
    "    \"sklearn RFR\": ensemble.RandomForestRegressor(\n",
    "        max_depth=4, criterion=\"squared_error\"\n",
    "    ),\n",
    "    \"our RFR\": RandomForestRegressor(max_depth=4, min_samples=1),\n",
    "}"
   ]
  },
  {
   "cell_type": "code",
   "execution_count": 4,
   "metadata": {},
   "outputs": [],
   "source": [
    "def benchmark_dataset(ds_name, loader, model):\n",
    "    dataset = loader()\n",
    "    X, y = dataset[\"data\"], dataset[\"target\"]\n",
    "    cv_scores = []\n",
    "    for train_idx, test_idx in KFold(n_splits=5, shuffle=True).split(X):\n",
    "        X_train, X_test = X[train_idx], X[test_idx]\n",
    "        y_train, y_test = y[train_idx], y[test_idx]\n",
    "        model.fit(X_train, y_train)\n",
    "        cv_scores.append(model.score(X_test, y_test))\n",
    "    cv_score = np.mean(cv_scores)\n",
    "    return cv_score"
   ]
  },
  {
   "cell_type": "code",
   "execution_count": 5,
   "metadata": {},
   "outputs": [],
   "source": [
    "from prettytable import PrettyTable\n",
    "\n",
    "\n",
    "def benchmark(loaders, models):\n",
    "    leaderboard = PrettyTable()\n",
    "    dataset_names = list(loaders.keys())\n",
    "    leaderboard.add_column(\"Dataset\", dataset_names)\n",
    "\n",
    "    for model_name, model in models.items():\n",
    "        results = [\n",
    "            f\"{benchmark_dataset(ds_name, loaders[ds_name], model):.3f}\"\n",
    "            for ds_name in dataset_names\n",
    "        ]\n",
    "        leaderboard.add_column(model_name, results)\n",
    "\n",
    "    print(leaderboard)"
   ]
  },
  {
   "cell_type": "code",
   "execution_count": 6,
   "metadata": {},
   "outputs": [
    {
     "name": "stdout",
     "output_type": "stream",
     "text": [
      "+---------------+-------------+-----------+---------+-------------+\n",
      "|    Dataset    | sklearn DTC | numpy DTC | JAX DTC | sklearn RFC |\n",
      "+---------------+-------------+-----------+---------+-------------+\n",
      "|      iris     |    0.967    |   0.933   |  0.947  |    0.953    |\n",
      "|     digits    |    0.679    |   0.728   |  0.685  |    0.905    |\n",
      "|      wine     |    0.950    |   0.944   |  0.893  |    0.983    |\n",
      "| breast_cancer |    0.935    |   0.944   |  0.940  |    0.954    |\n",
      "+---------------+-------------+-----------+---------+-------------+\n"
     ]
    }
   ],
   "source": [
    "benchmark(classification_loaders, classification_models)"
   ]
  },
  {
   "cell_type": "code",
   "execution_count": 6,
   "metadata": {},
   "outputs": [
    {
     "name": "stdout",
     "output_type": "stream",
     "text": [
      "+----------+-------------+---------+-------------+---------+\n",
      "| Dataset  | sklearn DTR | our DTR | sklearn RFR | our RFR |\n",
      "+----------+-------------+---------+-------------+---------+\n",
      "| diabetes |    0.332    |  0.376  |    0.438    |  0.344  |\n",
      "+----------+-------------+---------+-------------+---------+\n"
     ]
    }
   ],
   "source": [
    "benchmark(regression_loaders, regression_models)"
   ]
  },
  {
   "cell_type": "code",
   "execution_count": null,
   "metadata": {},
   "outputs": [],
   "source": []
  }
 ],
 "metadata": {
  "kernelspec": {
   "display_name": "Python 3.8.2 ('.venv': pipenv)",
   "language": "python",
   "name": "python3"
  },
  "language_info": {
   "codemirror_mode": {
    "name": "ipython",
    "version": 3
   },
   "file_extension": ".py",
   "mimetype": "text/x-python",
   "name": "python",
   "nbconvert_exporter": "python",
   "pygments_lexer": "ipython3",
   "version": "3.8.2"
  },
  "orig_nbformat": 4,
  "vscode": {
   "interpreter": {
    "hash": "e7d68aa8add11f41313eed966ac2e65c5c3885b66e5ee293dcfa2a5e760e75e6"
   }
  }
 },
 "nbformat": 4,
 "nbformat_minor": 2
}

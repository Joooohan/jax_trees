{
 "cells": [
  {
   "cell_type": "code",
   "execution_count": 34,
   "metadata": {},
   "outputs": [],
   "source": [
    "from sklearn.model_selection import cross_val_score, KFold\n",
    "import numpy as np"
   ]
  },
  {
   "cell_type": "code",
   "execution_count": 52,
   "metadata": {},
   "outputs": [],
   "source": [
    "from sklearn.datasets import load_iris, load_digits, load_wine, load_breast_cancer\n",
    "\n",
    "loaders = {\n",
    "    \"iris\": load_iris,\n",
    "    \"digits\": load_digits,\n",
    "    \"wine\": load_wine,\n",
    "    \"breast_cancer\": load_breast_cancer\n",
    "}"
   ]
  },
  {
   "cell_type": "code",
   "execution_count": 60,
   "metadata": {},
   "outputs": [],
   "source": [
    "from sklearn.tree import DecisionTreeClassifier\n",
    "\n",
    "models = {\n",
    "    \"DecisionTree\": DecisionTreeClassifier(criterion=\"entropy\"),\n",
    "}"
   ]
  },
  {
   "cell_type": "code",
   "execution_count": 64,
   "metadata": {},
   "outputs": [],
   "source": [
    "def benchmark_dataset(ds_name, loader, model):\n",
    "    dataset = loader()\n",
    "    X, y = dataset[\"data\"], dataset[\"target\"]\n",
    "    cv_scores = cross_val_score(model, X, y, cv=KFold(n_splits=5, shuffle=True))\n",
    "    cv_score = np.mean(cv_scores)\n",
    "    return cv_score\n"
   ]
  },
  {
   "cell_type": "code",
   "execution_count": 67,
   "metadata": {},
   "outputs": [],
   "source": [
    "from prettytable import PrettyTable\n",
    "\n",
    "def benchmark(loaders, models):\n",
    "    leaderboard = PrettyTable()\n",
    "    dataset_names = list(loaders.keys())\n",
    "    leaderboard.add_column(\"Dataset\", dataset_names)\n",
    "\n",
    "    for model_name, model in models.items():\n",
    "        results = [\n",
    "            f\"{benchmark_dataset(ds_name, loaders[ds_name], model):.3f}\"\n",
    "            for ds_name in dataset_names\n",
    "        ]\n",
    "        leaderboard.add_column(model_name, results)\n",
    "\n",
    "    print(leaderboard)"
   ]
  },
  {
   "cell_type": "code",
   "execution_count": 68,
   "metadata": {},
   "outputs": [
    {
     "name": "stdout",
     "output_type": "stream",
     "text": [
      "+---------------+--------------+\n",
      "|    Dataset    | DecisionTree |\n",
      "+---------------+--------------+\n",
      "|      iris     |    0.960     |\n",
      "|     digits    |    0.862     |\n",
      "|      wine     |    0.894     |\n",
      "| breast_cancer |    0.919     |\n",
      "+---------------+--------------+\n"
     ]
    }
   ],
   "source": [
    "benchmark(loaders, models)"
   ]
  },
  {
   "cell_type": "code",
   "execution_count": null,
   "metadata": {},
   "outputs": [],
   "source": []
  }
 ],
 "metadata": {
  "kernelspec": {
   "display_name": "Python 3.8.2 ('.venv': pipenv)",
   "language": "python",
   "name": "python3"
  },
  "language_info": {
   "codemirror_mode": {
    "name": "ipython",
    "version": 3
   },
   "file_extension": ".py",
   "mimetype": "text/x-python",
   "name": "python",
   "nbconvert_exporter": "python",
   "pygments_lexer": "ipython3",
   "version": "3.8.2"
  },
  "orig_nbformat": 4,
  "vscode": {
   "interpreter": {
    "hash": "e7d68aa8add11f41313eed966ac2e65c5c3885b66e5ee293dcfa2a5e760e75e6"
   }
  }
 },
 "nbformat": 4,
 "nbformat_minor": 2
}

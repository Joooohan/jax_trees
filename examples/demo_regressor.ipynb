{
 "cells": [
  {
   "cell_type": "code",
   "execution_count": 1,
   "metadata": {},
   "outputs": [],
   "source": [
    "from sklearn.datasets import (\n",
    "    load_diabetes,\n",
    ")\n",
    "\n",
    "loaders = {\n",
    "    \"diabetes\": load_diabetes,\n",
    "}"
   ]
  },
  {
   "cell_type": "code",
   "execution_count": 2,
   "metadata": {},
   "outputs": [],
   "source": [
    "dataset = load_diabetes()\n",
    "X, y = dataset[\"data\"], dataset[\"target\"]"
   ]
  },
  {
   "cell_type": "code",
   "execution_count": 6,
   "metadata": {},
   "outputs": [],
   "source": [
    "# from jax_trees.numpy import DecisionTreeRegressor\n",
    "from jax_trees.jax import (\n",
    "    DecisionTreeRegressor,\n",
    "    # RandomForestRegressor,\n",
    "    # GradientBoostedRegressor,\n",
    ")\n",
    "\n",
    "model = DecisionTreeRegressor(\n",
    "    max_depth=4,\n",
    "    min_samples=2,\n",
    ")\n",
    "\n",
    "# model = RandomForestRegressor(\n",
    "#     n_estimators=50,\n",
    "#     max_depth=3,\n",
    "#     min_samples=2,\n",
    "# )\n",
    "\n",
    "# model = GradientBoostedRegressor(\n",
    "#     n_estimators=100,\n",
    "#     learning_rate=3.0,\n",
    "#     max_depth=3,\n",
    "#     min_samples=2,\n",
    "# )"
   ]
  },
  {
   "cell_type": "code",
   "execution_count": 7,
   "metadata": {},
   "outputs": [],
   "source": [
    "fitted_model = model.fit(X, y)"
   ]
  },
  {
   "cell_type": "code",
   "execution_count": 8,
   "metadata": {},
   "outputs": [
    {
     "data": {
      "text/plain": [
       "DeviceArray(0.5598648, dtype=float32)"
      ]
     },
     "execution_count": 8,
     "metadata": {},
     "output_type": "execute_result"
    }
   ],
   "source": [
    "fitted_model.score(X, y)"
   ]
  },
  {
   "cell_type": "code",
   "execution_count": 10,
   "metadata": {},
   "outputs": [
    {
     "name": "stdout",
     "output_type": "stream",
     "text": [
      "0.2951898\n"
     ]
    }
   ],
   "source": [
    "from sklearn.model_selection import KFold\n",
    "import numpy as np\n",
    "\n",
    "cv_scores = []\n",
    "for train_idx, test_idx in KFold(n_splits=5, shuffle=True).split(X):\n",
    "    X_train, X_test = X[train_idx], X[test_idx]\n",
    "    y_train, y_test = y[train_idx], y[test_idx]\n",
    "    fitted_model = model.fit(X_train, y_train)\n",
    "    cv_scores.append(fitted_model.score(X_test, y_test))\n",
    "print(np.mean(cv_scores))"
   ]
  },
  {
   "cell_type": "code",
   "execution_count": 11,
   "metadata": {},
   "outputs": [
    {
     "ename": "TypeError",
     "evalue": "'NoneType' object is not subscriptable",
     "output_type": "error",
     "traceback": [
      "\u001b[0;31m---------------------------------------------------------------------------\u001b[0m",
      "\u001b[0;31mTypeError\u001b[0m                                 Traceback (most recent call last)",
      "Cell \u001b[0;32mIn [11], line 4\u001b[0m\n\u001b[1;32m      1\u001b[0m \u001b[39mfrom\u001b[39;00m \u001b[39mgraphviz\u001b[39;00m \u001b[39mimport\u001b[39;00m Source\n\u001b[1;32m      2\u001b[0m \u001b[39mfrom\u001b[39;00m \u001b[39mjax_trees\u001b[39;00m\u001b[39m.\u001b[39;00m\u001b[39mviz\u001b[39;00m \u001b[39mimport\u001b[39;00m show_nodes\n\u001b[0;32m----> 4\u001b[0m Source(show_nodes(model))\n",
      "File \u001b[0;32m~/workspace/algorithms/decision_trees/jax_trees/viz.py:35\u001b[0m, in \u001b[0;36mshow_nodes\u001b[0;34m(model)\u001b[0m\n\u001b[1;32m     32\u001b[0m graph\u001b[39m.\u001b[39mnode_attr\u001b[39m.\u001b[39mupdate(shape\u001b[39m=\u001b[39m\u001b[39m\"\u001b[39m\u001b[39mbox\u001b[39m\u001b[39m\"\u001b[39m)\n\u001b[1;32m     34\u001b[0m \u001b[39mfor\u001b[39;00m depth \u001b[39min\u001b[39;00m \u001b[39mrange\u001b[39m(model\u001b[39m.\u001b[39mmax_depth \u001b[39m+\u001b[39m \u001b[39m1\u001b[39m):\n\u001b[0;32m---> 35\u001b[0m     \u001b[39mfor\u001b[39;00m rank, node \u001b[39min\u001b[39;00m \u001b[39menumerate\u001b[39m(model\u001b[39m.\u001b[39;49mnodes[depth]):\n\u001b[1;32m     36\u001b[0m         \u001b[39mif\u001b[39;00m jnp\u001b[39m.\u001b[39msum(node\u001b[39m.\u001b[39mmask) \u001b[39m==\u001b[39m \u001b[39m0\u001b[39m:\n\u001b[1;32m     37\u001b[0m             \u001b[39mcontinue\u001b[39;00m\n",
      "\u001b[0;31mTypeError\u001b[0m: 'NoneType' object is not subscriptable"
     ]
    }
   ],
   "source": [
    "from graphviz import Source\n",
    "from jax_trees.viz import show_nodes\n",
    "\n",
    "Source(show_nodes(model))"
   ]
  },
  {
   "cell_type": "code",
   "execution_count": null,
   "metadata": {},
   "outputs": [],
   "source": []
  },
  {
   "cell_type": "code",
   "execution_count": null,
   "metadata": {},
   "outputs": [],
   "source": []
  }
 ],
 "metadata": {
  "kernelspec": {
   "display_name": "Python 3.8.2 ('.venv': pipenv)",
   "language": "python",
   "name": "python3"
  },
  "language_info": {
   "codemirror_mode": {
    "name": "ipython",
    "version": 3
   },
   "file_extension": ".py",
   "mimetype": "text/x-python",
   "name": "python",
   "nbconvert_exporter": "python",
   "pygments_lexer": "ipython3",
   "version": "3.8.2"
  },
  "orig_nbformat": 4,
  "vscode": {
   "interpreter": {
    "hash": "e7d68aa8add11f41313eed966ac2e65c5c3885b66e5ee293dcfa2a5e760e75e6"
   }
  }
 },
 "nbformat": 4,
 "nbformat_minor": 2
}

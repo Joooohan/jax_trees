{
 "cells": [
  {
   "cell_type": "code",
   "execution_count": 1,
   "metadata": {},
   "outputs": [],
   "source": [
    "from sklearn.model_selection import KFold\n",
    "import numpy as np"
   ]
  },
  {
   "cell_type": "code",
   "execution_count": 2,
   "metadata": {},
   "outputs": [],
   "source": [
    "from sklearn.datasets import (\n",
    "    load_iris,\n",
    "    load_digits,\n",
    "    load_wine,\n",
    "    load_breast_cancer,\n",
    "    load_diabetes,\n",
    ")\n",
    "\n",
    "classification_loaders = {\n",
    "    \"iris\": load_iris,\n",
    "    \"digits\": load_digits,\n",
    "    \"wine\": load_wine,\n",
    "    \"breast_cancer\": load_breast_cancer,\n",
    "}\n",
    "\n",
    "regression_loaders = {\n",
    "    \"diabetes\": load_diabetes,\n",
    "}"
   ]
  },
  {
   "cell_type": "code",
   "execution_count": 3,
   "metadata": {},
   "outputs": [],
   "source": [
    "from sklearn import tree\n",
    "from sklearn import ensemble\n",
    "from jax_trees.numpy import (\n",
    "    DecisionTreeClassifier,\n",
    "    DecisionTreeRegressor,\n",
    ")\n",
    "from jax_trees.jax import DecisionTreeClassifier as JaxDTC\n",
    "from jax_trees.jax import DecisionTreeRegressor as JaxDTR\n",
    "from jax_trees.jax import RandomForestRegressor as JaxRFR\n",
    "from jax_trees.jax import RandomForestClassifier as JaxRFC\n",
    "from jax_trees.jax import GradientBoostedRegressor as JaxGBR\n",
    "from jax_trees.jax import GradientBoostedClassifier as JaxGBC\n",
    "\n",
    "classification_models = {\n",
    "    \"sklearn DTC\": tree.DecisionTreeClassifier(\n",
    "        criterion=\"entropy\", max_depth=4\n",
    "    ),\n",
    "    \"numpy DTC\": DecisionTreeClassifier(max_depth=4, min_samples=1),\n",
    "    \"JAX DTC\": JaxDTC(max_depth=4, min_samples=2),\n",
    "    \"sklearn RFC\": ensemble.RandomForestClassifier(\n",
    "        n_estimators=20, criterion=\"entropy\", max_depth=4\n",
    "    ),\n",
    "    \"JAX RFC\": JaxRFC(n_estimators=20, max_depth=4, min_samples=2),\n",
    "    # \"JAX GBC\": JaxGBC(\n",
    "    #     learning_rate=1.0, n_estimators=20, max_depth=4, min_samples=2\n",
    "    # ),\n",
    "}\n",
    "\n",
    "regression_models = {\n",
    "    \"sklearn DTR\": tree.DecisionTreeRegressor(\n",
    "        criterion=\"squared_error\", max_depth=4\n",
    "    ),\n",
    "    \"numpy DTR\": DecisionTreeRegressor(max_depth=4, min_samples=1),\n",
    "    \"JAX DTR\": JaxDTR(max_depth=4, min_samples=2),\n",
    "    \"sklearn RFR\": ensemble.RandomForestRegressor(\n",
    "        n_estimators=20, max_depth=4, criterion=\"squared_error\"\n",
    "    ),\n",
    "    \"JAX RFR\": JaxRFR(n_estimators=20, max_depth=4, min_samples=2),\n",
    "    \"JAX GBR\": JaxGBR(\n",
    "        n_estimators=50, learning_rate=3.0, max_depth=4, min_samples=2\n",
    "    ),\n",
    "}"
   ]
  },
  {
   "cell_type": "code",
   "execution_count": 4,
   "metadata": {},
   "outputs": [],
   "source": [
    "def benchmark_dataset(ds_name, loader, model):\n",
    "    dataset = loader()\n",
    "    X, y = dataset[\"data\"], dataset[\"target\"]\n",
    "    cv_scores = []\n",
    "    for train_idx, test_idx in KFold(n_splits=5, shuffle=True).split(X):\n",
    "        X_train, X_test = X[train_idx], X[test_idx]\n",
    "        y_train, y_test = y[train_idx], y[test_idx]\n",
    "        model.fit(X_train, y_train)\n",
    "        cv_scores.append(model.score(X_test, y_test))\n",
    "    cv_score = np.mean(cv_scores)\n",
    "    return cv_score"
   ]
  },
  {
   "cell_type": "code",
   "execution_count": 5,
   "metadata": {},
   "outputs": [],
   "source": [
    "from prettytable import PrettyTable\n",
    "\n",
    "\n",
    "def benchmark(loaders, models):\n",
    "    leaderboard = PrettyTable()\n",
    "    dataset_names = list(loaders.keys())\n",
    "    leaderboard.add_column(\"Dataset\", dataset_names)\n",
    "\n",
    "    for model_name, model in models.items():\n",
    "        results = [\n",
    "            f\"{benchmark_dataset(ds_name, loaders[ds_name], model):.3f}\"\n",
    "            for ds_name in dataset_names\n",
    "        ]\n",
    "        leaderboard.add_column(model_name, results)\n",
    "\n",
    "    print(leaderboard)"
   ]
  },
  {
   "cell_type": "code",
   "execution_count": 6,
   "metadata": {},
   "outputs": [
    {
     "ename": "KeyboardInterrupt",
     "evalue": "",
     "output_type": "error",
     "traceback": [
      "\u001b[0;31m---------------------------------------------------------------------------\u001b[0m",
      "\u001b[0;31mKeyboardInterrupt\u001b[0m                         Traceback (most recent call last)",
      "Cell \u001b[0;32mIn [6], line 1\u001b[0m\n\u001b[0;32m----> 1\u001b[0m benchmark(classification_loaders, classification_models)\n",
      "Cell \u001b[0;32mIn [5], line 10\u001b[0m, in \u001b[0;36mbenchmark\u001b[0;34m(loaders, models)\u001b[0m\n\u001b[1;32m      7\u001b[0m leaderboard\u001b[39m.\u001b[39madd_column(\u001b[39m\"\u001b[39m\u001b[39mDataset\u001b[39m\u001b[39m\"\u001b[39m, dataset_names)\n\u001b[1;32m      9\u001b[0m \u001b[39mfor\u001b[39;00m model_name, model \u001b[39min\u001b[39;00m models\u001b[39m.\u001b[39mitems():\n\u001b[0;32m---> 10\u001b[0m     results \u001b[39m=\u001b[39m [\n\u001b[1;32m     11\u001b[0m         \u001b[39mf\u001b[39m\u001b[39m\"\u001b[39m\u001b[39m{\u001b[39;00mbenchmark_dataset(ds_name, loaders[ds_name], model)\u001b[39m:\u001b[39;00m\u001b[39m.3f\u001b[39m\u001b[39m}\u001b[39;00m\u001b[39m\"\u001b[39m\n\u001b[1;32m     12\u001b[0m         \u001b[39mfor\u001b[39;00m ds_name \u001b[39min\u001b[39;00m dataset_names\n\u001b[1;32m     13\u001b[0m     ]\n\u001b[1;32m     14\u001b[0m     leaderboard\u001b[39m.\u001b[39madd_column(model_name, results)\n\u001b[1;32m     16\u001b[0m \u001b[39mprint\u001b[39m(leaderboard)\n",
      "Cell \u001b[0;32mIn [5], line 11\u001b[0m, in \u001b[0;36m<listcomp>\u001b[0;34m(.0)\u001b[0m\n\u001b[1;32m      7\u001b[0m leaderboard\u001b[39m.\u001b[39madd_column(\u001b[39m\"\u001b[39m\u001b[39mDataset\u001b[39m\u001b[39m\"\u001b[39m, dataset_names)\n\u001b[1;32m      9\u001b[0m \u001b[39mfor\u001b[39;00m model_name, model \u001b[39min\u001b[39;00m models\u001b[39m.\u001b[39mitems():\n\u001b[1;32m     10\u001b[0m     results \u001b[39m=\u001b[39m [\n\u001b[0;32m---> 11\u001b[0m         \u001b[39mf\u001b[39m\u001b[39m\"\u001b[39m\u001b[39m{\u001b[39;00mbenchmark_dataset(ds_name, loaders[ds_name], model)\u001b[39m:\u001b[39;00m\u001b[39m.3f\u001b[39m\u001b[39m}\u001b[39;00m\u001b[39m\"\u001b[39m\n\u001b[1;32m     12\u001b[0m         \u001b[39mfor\u001b[39;00m ds_name \u001b[39min\u001b[39;00m dataset_names\n\u001b[1;32m     13\u001b[0m     ]\n\u001b[1;32m     14\u001b[0m     leaderboard\u001b[39m.\u001b[39madd_column(model_name, results)\n\u001b[1;32m     16\u001b[0m \u001b[39mprint\u001b[39m(leaderboard)\n",
      "Cell \u001b[0;32mIn [4], line 8\u001b[0m, in \u001b[0;36mbenchmark_dataset\u001b[0;34m(ds_name, loader, model)\u001b[0m\n\u001b[1;32m      6\u001b[0m     X_train, X_test \u001b[39m=\u001b[39m X[train_idx], X[test_idx]\n\u001b[1;32m      7\u001b[0m     y_train, y_test \u001b[39m=\u001b[39m y[train_idx], y[test_idx]\n\u001b[0;32m----> 8\u001b[0m     model\u001b[39m.\u001b[39;49mfit(X_train, y_train)\n\u001b[1;32m      9\u001b[0m     cv_scores\u001b[39m.\u001b[39mappend(model\u001b[39m.\u001b[39mscore(X_test, y_test))\n\u001b[1;32m     10\u001b[0m cv_score \u001b[39m=\u001b[39m np\u001b[39m.\u001b[39mmean(cv_scores)\n",
      "File \u001b[0;32m~/workspace/algorithms/decision_trees/decision_tree/jax/gradient_boosting/classifier.py:61\u001b[0m, in \u001b[0;36mGradientBoostedClassifier.fit\u001b[0;34m(self, X, y)\u001b[0m\n\u001b[1;32m     54\u001b[0m \u001b[39mfor\u001b[39;00m col \u001b[39min\u001b[39;00m \u001b[39mrange\u001b[39m(n_classes):\n\u001b[1;32m     55\u001b[0m     \u001b[39m# At each stage we need to fit `n_classes` estimators\u001b[39;00m\n\u001b[1;32m     56\u001b[0m     weak_learner \u001b[39m=\u001b[39m DecisionTreeRegressor(\n\u001b[1;32m     57\u001b[0m         min_samples\u001b[39m=\u001b[39m\u001b[39mself\u001b[39m\u001b[39m.\u001b[39mmin_samples,\n\u001b[1;32m     58\u001b[0m         max_depth\u001b[39m=\u001b[39m\u001b[39mself\u001b[39m\u001b[39m.\u001b[39mmax_depth,\n\u001b[1;32m     59\u001b[0m         max_splits\u001b[39m=\u001b[39m\u001b[39mself\u001b[39m\u001b[39m.\u001b[39mmax_splits,\n\u001b[1;32m     60\u001b[0m     )\n\u001b[0;32m---> 61\u001b[0m     weak_learner\u001b[39m.\u001b[39;49mfit(X, residuals[:, col])\n\u001b[1;32m     62\u001b[0m     stage_estimators\u001b[39m.\u001b[39mappend(weak_learner)\n\u001b[1;32m     63\u001b[0m     stage_preds\u001b[39m.\u001b[39mappend(weak_learner\u001b[39m.\u001b[39mpredict(X))\n",
      "File \u001b[0;32m~/workspace/algorithms/decision_trees/decision_tree/jax/regressor.py:167\u001b[0m, in \u001b[0;36mfit\u001b[0;34m(self, X, y, mask)\u001b[0m\n\u001b[1;32m    165\u001b[0m y \u001b[39m=\u001b[39m y\u001b[39m.\u001b[39mastype(\u001b[39m\"\u001b[39m\u001b[39mfloat32\u001b[39m\u001b[39m\"\u001b[39m)\n\u001b[1;32m    166\u001b[0m \u001b[39mif\u001b[39;00m mask \u001b[39mis\u001b[39;00m \u001b[39mNone\u001b[39;00m:\n\u001b[0;32m--> 167\u001b[0m     mask \u001b[39m=\u001b[39m jnp\u001b[39m.\u001b[39mones_like(y)\n\u001b[1;32m    168\u001b[0m \u001b[39mself\u001b[39m\u001b[39m.\u001b[39mroot \u001b[39m=\u001b[39m TreeNode(\n\u001b[1;32m    169\u001b[0m     X,\n\u001b[1;32m    170\u001b[0m     y,\n\u001b[0;32m   (...)\u001b[0m\n\u001b[1;32m    174\u001b[0m     max_splits\u001b[39m=\u001b[39m\u001b[39mself\u001b[39m\u001b[39m.\u001b[39mmax_splits,\n\u001b[1;32m    175\u001b[0m )\n",
      "File \u001b[0;32m~/workspace/algorithms/decision_trees/decision_tree/jax/regressor.py:105\u001b[0m, in \u001b[0;36m__init__\u001b[0;34m(self, X, y, mask, min_samples, depth, max_splits)\u001b[0m\n\u001b[1;32m    100\u001b[0m \u001b[39mself\u001b[39m\u001b[39m.\u001b[39mis_leaf \u001b[39m=\u001b[39m \u001b[39mFalse\u001b[39;00m\n\u001b[1;32m    101\u001b[0m \u001b[39mself\u001b[39m\u001b[39m.\u001b[39mleft_node \u001b[39m=\u001b[39m TreeNode(\n\u001b[1;32m    102\u001b[0m     X, y, left_mask, min_samples, depth \u001b[39m-\u001b[39m \u001b[39m1\u001b[39m, max_splits\n\u001b[1;32m    103\u001b[0m )\n\u001b[1;32m    104\u001b[0m \u001b[39mself\u001b[39m\u001b[39m.\u001b[39mright_node \u001b[39m=\u001b[39m TreeNode(\n\u001b[0;32m--> 105\u001b[0m     X, y, right_mask, min_samples, depth \u001b[39m-\u001b[39m \u001b[39m1\u001b[39m, max_splits\n\u001b[1;32m    106\u001b[0m )\n\u001b[1;32m    107\u001b[0m \u001b[39mself\u001b[39m\u001b[39m.\u001b[39msplit_value \u001b[39m=\u001b[39m split_value\n\u001b[1;32m    108\u001b[0m \u001b[39mself\u001b[39m\u001b[39m.\u001b[39msplit_col \u001b[39m=\u001b[39m split_col\n",
      "File \u001b[0;32m~/workspace/algorithms/decision_trees/decision_tree/jax/regressor.py:102\u001b[0m, in \u001b[0;36m__init__\u001b[0;34m(self, X, y, mask, min_samples, depth, max_splits)\u001b[0m\n\u001b[1;32m     97\u001b[0m left_mask, right_mask, split_value, split_col \u001b[39m=\u001b[39m split_node(\n\u001b[1;32m     98\u001b[0m     X, y, mask, max_splits\n\u001b[1;32m     99\u001b[0m )\n\u001b[1;32m    100\u001b[0m \u001b[39mself\u001b[39m\u001b[39m.\u001b[39mis_leaf \u001b[39m=\u001b[39m \u001b[39mFalse\u001b[39;00m\n\u001b[1;32m    101\u001b[0m \u001b[39mself\u001b[39m\u001b[39m.\u001b[39mleft_node \u001b[39m=\u001b[39m TreeNode(\n\u001b[0;32m--> 102\u001b[0m     X, y, left_mask, min_samples, depth \u001b[39m-\u001b[39m \u001b[39m1\u001b[39m, max_splits\n\u001b[1;32m    103\u001b[0m )\n\u001b[1;32m    104\u001b[0m \u001b[39mself\u001b[39m\u001b[39m.\u001b[39mright_node \u001b[39m=\u001b[39m TreeNode(\n\u001b[1;32m    105\u001b[0m     X, y, right_mask, min_samples, depth \u001b[39m-\u001b[39m \u001b[39m1\u001b[39m, max_splits\n\u001b[1;32m    106\u001b[0m )\n\u001b[1;32m    107\u001b[0m \u001b[39mself\u001b[39m\u001b[39m.\u001b[39msplit_value \u001b[39m=\u001b[39m split_value\n",
      "File \u001b[0;32m~/workspace/algorithms/decision_trees/decision_tree/jax/regressor.py:102\u001b[0m, in \u001b[0;36m__init__\u001b[0;34m(self, X, y, mask, min_samples, depth, max_splits)\u001b[0m\n\u001b[1;32m     97\u001b[0m left_mask, right_mask, split_value, split_col \u001b[39m=\u001b[39m split_node(\n\u001b[1;32m     98\u001b[0m     X, y, mask, max_splits\n\u001b[1;32m     99\u001b[0m )\n\u001b[1;32m    100\u001b[0m \u001b[39mself\u001b[39m\u001b[39m.\u001b[39mis_leaf \u001b[39m=\u001b[39m \u001b[39mFalse\u001b[39;00m\n\u001b[1;32m    101\u001b[0m \u001b[39mself\u001b[39m\u001b[39m.\u001b[39mleft_node \u001b[39m=\u001b[39m TreeNode(\n\u001b[0;32m--> 102\u001b[0m     X, y, left_mask, min_samples, depth \u001b[39m-\u001b[39m \u001b[39m1\u001b[39m, max_splits\n\u001b[1;32m    103\u001b[0m )\n\u001b[1;32m    104\u001b[0m \u001b[39mself\u001b[39m\u001b[39m.\u001b[39mright_node \u001b[39m=\u001b[39m TreeNode(\n\u001b[1;32m    105\u001b[0m     X, y, right_mask, min_samples, depth \u001b[39m-\u001b[39m \u001b[39m1\u001b[39m, max_splits\n\u001b[1;32m    106\u001b[0m )\n\u001b[1;32m    107\u001b[0m \u001b[39mself\u001b[39m\u001b[39m.\u001b[39msplit_value \u001b[39m=\u001b[39m split_value\n",
      "File \u001b[0;32m~/workspace/algorithms/decision_trees/decision_tree/jax/regressor.py:98\u001b[0m, in \u001b[0;36m__init__\u001b[0;34m(self, X, y, mask, min_samples, depth, max_splits)\u001b[0m\n\u001b[1;32m     94\u001b[0m \u001b[39mself\u001b[39m\u001b[39m.\u001b[39mtarget_names \u001b[39m=\u001b[39m \u001b[39mNone\u001b[39;00m\n\u001b[1;32m     96\u001b[0m \u001b[39mif\u001b[39;00m jnp\u001b[39m.\u001b[39msum(mask) \u001b[39m>\u001b[39m min_samples \u001b[39mand\u001b[39;00m depth \u001b[39m>\u001b[39m \u001b[39m0\u001b[39m:\n\u001b[1;32m     97\u001b[0m     left_mask, right_mask, split_value, split_col \u001b[39m=\u001b[39m split_node(\n\u001b[0;32m---> 98\u001b[0m         X, y, mask, max_splits\n\u001b[1;32m     99\u001b[0m     )\n\u001b[1;32m    100\u001b[0m     \u001b[39mself\u001b[39m\u001b[39m.\u001b[39mis_leaf \u001b[39m=\u001b[39m \u001b[39mFalse\u001b[39;00m\n\u001b[1;32m    101\u001b[0m     \u001b[39mself\u001b[39m\u001b[39m.\u001b[39mleft_node \u001b[39m=\u001b[39m TreeNode(\n\u001b[1;32m    102\u001b[0m         X, y, left_mask, min_samples, depth \u001b[39m-\u001b[39m \u001b[39m1\u001b[39m, max_splits\n\u001b[1;32m    103\u001b[0m     )\n",
      "\u001b[0;31mKeyboardInterrupt\u001b[0m: "
     ]
    }
   ],
   "source": [
    "benchmark(classification_loaders, classification_models)"
   ]
  },
  {
   "cell_type": "code",
   "execution_count": null,
   "metadata": {},
   "outputs": [],
   "source": [
    "benchmark(regression_loaders, regression_models)"
   ]
  },
  {
   "cell_type": "code",
   "execution_count": null,
   "metadata": {},
   "outputs": [],
   "source": []
  }
 ],
 "metadata": {
  "kernelspec": {
   "display_name": "Python 3.8.2 ('.venv': pipenv)",
   "language": "python",
   "name": "python3"
  },
  "language_info": {
   "codemirror_mode": {
    "name": "ipython",
    "version": 3
   },
   "file_extension": ".py",
   "mimetype": "text/x-python",
   "name": "python",
   "nbconvert_exporter": "python",
   "pygments_lexer": "ipython3",
   "version": "3.8.2"
  },
  "orig_nbformat": 4,
  "vscode": {
   "interpreter": {
    "hash": "e7d68aa8add11f41313eed966ac2e65c5c3885b66e5ee293dcfa2a5e760e75e6"
   }
  }
 },
 "nbformat": 4,
 "nbformat_minor": 2
}
